{
 "cells": [
  {
   "cell_type": "markdown",
   "metadata": {},
   "source": [
    " # Chemical Named Entity Recognition\n",
    "Chemical NER is the extraction of chemical mentions from the scientific texts such as patents, bio-medical literature, patient records etc and classify them to entities such as trivial names, drugs, abbrevations, molecular formulas and IUPAC entities. In the NER system the key stages are: pre-processing methods, feature-extraction and sequence labelling approaches. "
   ]
  },
  {
   "cell_type": "markdown",
   "metadata": {},
   "source": [
    "The dataset used is the CHEMDNER corpus which consists of 10,000 MEDLINE titles and abstracts randomly partitioned to training, testing and development datasets. The articles were curated from a list of articles published in 2013 by the top 100 journals related to the chemistry field. These articles are manually annotated by domain experts. Each annotation consists of the article identifier, type of text (title or abstract), start and end indices, the text string and the label of chemical entity."
   ]
  },
  {
   "cell_type": "code",
   "execution_count": 1,
   "metadata": {},
   "outputs": [],
   "source": [
    "#importing necessary libraries\n",
    "import pandas as pd\n",
    "import numpy as np\n",
    "from pandas import DataFrame, Series\n",
    "\n",
    "import nltk\n",
    "from nltk import word_tokenize, pos_tag, pos_tag_sents\n",
    "from nltk.corpus import stopwords\n",
    "\n",
    "from chemtok import ChemTokeniser\n",
    "\n",
    "import gensim\n",
    "from gensim.models import Word2Vec, KeyedVectors\n",
    "\n",
    "import string\n",
    "import csv\n",
    "import re\n",
    "\n",
    "import sklearn_crfsuite\n",
    "from sklearn_crfsuite import CRF, scorers, metrics\n",
    "from sklearn_crfsuite.metrics import flat_f1_score, flat_classification_report\n",
    "from sklearn.model_selection import RandomizedSearchCV, cross_val_predict, cross_val_score, learning_curve\n",
    "%matplotlib inline\n",
    "import matplotlib.pyplot as plt\n",
    "plt.style.use('ggplot')\n",
    "\n",
    "import warnings\n",
    "warnings.filterwarnings('ignore',category=DeprecationWarning)\n",
    "warnings.filterwarnings('ignore',category=UserWarning)\n",
    "warnings.filterwarnings('ignore',category=FutureWarning)"
   ]
  },
  {
   "cell_type": "markdown",
   "metadata": {},
   "source": [
    "We first import the training data which contains article ID, title & abstracts extracted from 3500 documents and 29478 annotated entities into pandas dataframe. The annotation data contains article ID, entity type, start & end indices of entity in that article, entity name and its label.  The test data contains title and abstracts extracted from 3000 documents with 25352 annotated entities(we consider 1500 documents in the project due to memory constraints). The development data contains title & abstracts extracted from 3500 documents with 29526 annotated entities. The training, test & development data has been annotated with the following entity types: abbreviation (e.g., \"DMSO\"), family (e.g., \"Iodopyridazines\"), formula (e.g., \"(CH3)2SO\"), identifier (e.g., \"CHEBI:28262\"), multiple (e.g., \"thieno2,3-d and thieno3,2-d fused oxazin-4-ones\"), systematic (e.g., \"2-Acetoxybenzoic acid\"), trivial (e.g., \"Aspirin\"), and undefined/no class (e.g., \"C4-C-N-PEG9\") "
   ]
  },
  {
   "cell_type": "code",
   "execution_count": 2,
   "metadata": {},
   "outputs": [
    {
     "data": {
      "text/html": [
       "<div>\n",
       "<style scoped>\n",
       "    .dataframe tbody tr th:only-of-type {\n",
       "        vertical-align: middle;\n",
       "    }\n",
       "\n",
       "    .dataframe tbody tr th {\n",
       "        vertical-align: top;\n",
       "    }\n",
       "\n",
       "    .dataframe thead th {\n",
       "        text-align: right;\n",
       "    }\n",
       "</style>\n",
       "<table border=\"1\" class=\"dataframe\">\n",
       "  <thead>\n",
       "    <tr style=\"text-align: right;\">\n",
       "      <th></th>\n",
       "      <th>article_ID</th>\n",
       "      <th>title</th>\n",
       "      <th>abstract</th>\n",
       "    </tr>\n",
       "  </thead>\n",
       "  <tbody>\n",
       "    <tr>\n",
       "      <th>0</th>\n",
       "      <td>21826085</td>\n",
       "      <td>DPP6 as a candidate gene for neuroleptic-induc...</td>\n",
       "      <td>We implemented a two-step approach to detect p...</td>\n",
       "    </tr>\n",
       "    <tr>\n",
       "      <th>1</th>\n",
       "      <td>22080034</td>\n",
       "      <td>Nanosilver effects on growth parameters in exp...</td>\n",
       "      <td>Aflatoxicosis is a cause of economic losses in...</td>\n",
       "    </tr>\n",
       "    <tr>\n",
       "      <th>2</th>\n",
       "      <td>22080035</td>\n",
       "      <td>The influence of the intensity of smoking and ...</td>\n",
       "      <td>The aim of this study was to investigate the e...</td>\n",
       "    </tr>\n",
       "    <tr>\n",
       "      <th>3</th>\n",
       "      <td>22080037</td>\n",
       "      <td>Mercury induces the expression of cyclooxygena...</td>\n",
       "      <td>Nuclear factor-κB (NF-κB) is a transcription f...</td>\n",
       "    </tr>\n",
       "    <tr>\n",
       "      <th>4</th>\n",
       "      <td>22258629</td>\n",
       "      <td>Toxic effects of chromium on tannery workers a...</td>\n",
       "      <td>Chromium is widely used in the leather industr...</td>\n",
       "    </tr>\n",
       "  </tbody>\n",
       "</table>\n",
       "</div>"
      ],
      "text/plain": [
       "   article_ID                                              title  \\\n",
       "0    21826085  DPP6 as a candidate gene for neuroleptic-induc...   \n",
       "1    22080034  Nanosilver effects on growth parameters in exp...   \n",
       "2    22080035  The influence of the intensity of smoking and ...   \n",
       "3    22080037  Mercury induces the expression of cyclooxygena...   \n",
       "4    22258629  Toxic effects of chromium on tannery workers a...   \n",
       "\n",
       "                                            abstract  \n",
       "0  We implemented a two-step approach to detect p...  \n",
       "1  Aflatoxicosis is a cause of economic losses in...  \n",
       "2  The aim of this study was to investigate the e...  \n",
       "3  Nuclear factor-κB (NF-κB) is a transcription f...  \n",
       "4  Chromium is widely used in the leather industr...  "
      ]
     },
     "execution_count": 2,
     "metadata": {},
     "output_type": "execute_result"
    }
   ],
   "source": [
    "#importing training, test and development/validation dataset into dataframes\n",
    "df1_train_data = pd.read_csv('training.abstracts.txt', delimiter = \"\\t\", header=None,names=[\"article_ID\", \"title\", \"abstract\"])\n",
    "df2_train_data = pd.read_csv('training.annotations.txt', delimiter = \"\\t\", header=None,names=[\"article_ID\", \"e_type\", \"start\",\"end\",\"entity\",\"label\"])\n",
    "\n",
    "df1_test_data = pd.read_csv('test-abstracts.csv', nrows=1500)\n",
    "df2_test_data = pd.read_csv('test-annt.csv', nrows=12824)\n",
    "\n",
    "df1_dev_data = pd.read_csv('development.abstracts.txt', delimiter = \"\\t\", header=None,names=[\"article_ID\", \"title\", \"abstract\"])\n",
    "df2_dev_data = pd.read_csv('development.annotations.txt', delimiter = \"\\t\", header=None,names=[\"article_ID\", \"e_type\", \"start\",\"end\",\"entity\",\"label\"])\n",
    "df1_train_data.head()"
   ]
  },
  {
   "cell_type": "code",
   "execution_count": 3,
   "metadata": {},
   "outputs": [
    {
     "data": {
      "text/html": [
       "<div>\n",
       "<style scoped>\n",
       "    .dataframe tbody tr th:only-of-type {\n",
       "        vertical-align: middle;\n",
       "    }\n",
       "\n",
       "    .dataframe tbody tr th {\n",
       "        vertical-align: top;\n",
       "    }\n",
       "\n",
       "    .dataframe thead th {\n",
       "        text-align: right;\n",
       "    }\n",
       "</style>\n",
       "<table border=\"1\" class=\"dataframe\">\n",
       "  <thead>\n",
       "    <tr style=\"text-align: right;\">\n",
       "      <th></th>\n",
       "      <th>article_ID</th>\n",
       "      <th>e_type</th>\n",
       "      <th>start</th>\n",
       "      <th>end</th>\n",
       "      <th>entity</th>\n",
       "      <th>label</th>\n",
       "    </tr>\n",
       "  </thead>\n",
       "  <tbody>\n",
       "    <tr>\n",
       "      <th>0</th>\n",
       "      <td>21826085</td>\n",
       "      <td>A</td>\n",
       "      <td>946</td>\n",
       "      <td>957</td>\n",
       "      <td>haloperidol</td>\n",
       "      <td>TRIVIAL</td>\n",
       "    </tr>\n",
       "    <tr>\n",
       "      <th>1</th>\n",
       "      <td>22080034</td>\n",
       "      <td>A</td>\n",
       "      <td>190</td>\n",
       "      <td>199</td>\n",
       "      <td>aflatoxin</td>\n",
       "      <td>FAMILY</td>\n",
       "    </tr>\n",
       "    <tr>\n",
       "      <th>2</th>\n",
       "      <td>22080034</td>\n",
       "      <td>A</td>\n",
       "      <td>594</td>\n",
       "      <td>603</td>\n",
       "      <td>aflatoxin</td>\n",
       "      <td>FAMILY</td>\n",
       "    </tr>\n",
       "    <tr>\n",
       "      <th>3</th>\n",
       "      <td>22080034</td>\n",
       "      <td>A</td>\n",
       "      <td>718</td>\n",
       "      <td>727</td>\n",
       "      <td>aflatoxin</td>\n",
       "      <td>FAMILY</td>\n",
       "    </tr>\n",
       "    <tr>\n",
       "      <th>4</th>\n",
       "      <td>22080034</td>\n",
       "      <td>A</td>\n",
       "      <td>1072</td>\n",
       "      <td>1081</td>\n",
       "      <td>aflatoxin</td>\n",
       "      <td>FAMILY</td>\n",
       "    </tr>\n",
       "  </tbody>\n",
       "</table>\n",
       "</div>"
      ],
      "text/plain": [
       "   article_ID e_type  start   end       entity    label\n",
       "0    21826085      A    946   957  haloperidol  TRIVIAL\n",
       "1    22080034      A    190   199    aflatoxin   FAMILY\n",
       "2    22080034      A    594   603    aflatoxin   FAMILY\n",
       "3    22080034      A    718   727    aflatoxin   FAMILY\n",
       "4    22080034      A   1072  1081    aflatoxin   FAMILY"
      ]
     },
     "execution_count": 3,
     "metadata": {},
     "output_type": "execute_result"
    }
   ],
   "source": [
    "df2_train_data.head()"
   ]
  },
  {
   "cell_type": "markdown",
   "metadata": {},
   "source": [
    "We next import brown clustering files generated from 500 clusters which will be used in feature extraction stage of the process. The brown clustering algorithm is applied for training, test and development datasets and contains bitchain binary representation of word, the word and the count of number of times the word occur in that dataset."
   ]
  },
  {
   "cell_type": "code",
   "execution_count": 4,
   "metadata": {},
   "outputs": [
    {
     "data": {
      "text/html": [
       "<div>\n",
       "<style scoped>\n",
       "    .dataframe tbody tr th:only-of-type {\n",
       "        vertical-align: middle;\n",
       "    }\n",
       "\n",
       "    .dataframe tbody tr th {\n",
       "        vertical-align: top;\n",
       "    }\n",
       "\n",
       "    .dataframe thead th {\n",
       "        text-align: right;\n",
       "    }\n",
       "</style>\n",
       "<table border=\"1\" class=\"dataframe\">\n",
       "  <thead>\n",
       "    <tr style=\"text-align: right;\">\n",
       "      <th></th>\n",
       "      <th>bitchain_title</th>\n",
       "      <th>word_title</th>\n",
       "      <th>count_title</th>\n",
       "      <th>bitchain_abst</th>\n",
       "      <th>word_abst</th>\n",
       "      <th>count_abst</th>\n",
       "    </tr>\n",
       "  </thead>\n",
       "  <tbody>\n",
       "    <tr>\n",
       "      <th>0</th>\n",
       "      <td>0</td>\n",
       "      <td>\"Chloroaluminium</td>\n",
       "      <td>1</td>\n",
       "      <td>0</td>\n",
       "      <td>possible),</td>\n",
       "      <td>1</td>\n",
       "    </tr>\n",
       "    <tr>\n",
       "      <th>1</th>\n",
       "      <td>0</td>\n",
       "      <td>of</td>\n",
       "      <td>3183</td>\n",
       "      <td>0</td>\n",
       "      <td>(1995).</td>\n",
       "      <td>1</td>\n",
       "    </tr>\n",
       "    <tr>\n",
       "      <th>2</th>\n",
       "      <td>0</td>\n",
       "      <td>\"Absolute</td>\n",
       "      <td>1</td>\n",
       "      <td>0</td>\n",
       "      <td>14-76%</td>\n",
       "      <td>1</td>\n",
       "    </tr>\n",
       "    <tr>\n",
       "      <th>3</th>\n",
       "      <td>10</td>\n",
       "      <td>and</td>\n",
       "      <td>2182</td>\n",
       "      <td>0</td>\n",
       "      <td>CHD,</td>\n",
       "      <td>1</td>\n",
       "    </tr>\n",
       "    <tr>\n",
       "      <th>4</th>\n",
       "      <td>10</td>\n",
       "      <td>β-galactosidase.</td>\n",
       "      <td>1</td>\n",
       "      <td>0</td>\n",
       "      <td>shRNA-mediated</td>\n",
       "      <td>1</td>\n",
       "    </tr>\n",
       "  </tbody>\n",
       "</table>\n",
       "</div>"
      ],
      "text/plain": [
       "   bitchain_title        word_title  count_title  bitchain_abst  \\\n",
       "0               0  \"Chloroaluminium            1              0   \n",
       "1               0                of         3183              0   \n",
       "2               0         \"Absolute            1              0   \n",
       "3              10               and         2182              0   \n",
       "4              10  β-galactosidase.            1              0   \n",
       "\n",
       "        word_abst  count_abst  \n",
       "0      possible),           1  \n",
       "1         (1995).           1  \n",
       "2          14-76%           1  \n",
       "3            CHD,           1  \n",
       "4  shRNA-mediated           1  "
      ]
     },
     "execution_count": 4,
     "metadata": {},
     "output_type": "execute_result"
    }
   ],
   "source": [
    "df_train_brown = pd.read_csv('title_train_cluster.txt', delimiter = \"\\t\", header=None, encoding='utf-8', names=[\"bitchain_title\", \"word_title\",\"count_title\"])\n",
    "df_train_brown[[\"bitchain_abst\", \"word_abst\",\"count_abst\"]] = pd.read_csv('abstract_train_cluster.txt', delimiter = \"\\t\", header=None, encoding='utf-8', names=[\"bitchain_abst\", \"word_abst\",\"count_abst\"])\n",
    "df_test_brown = pd.read_csv('title_test_cluster.txt', delimiter = \"\\t\", header=None, encoding='utf-8', names=[\"bitchain_title\", \"word_title\",\"count_title\"])\n",
    "df_test_brown[[\"bitchain_abst\", \"word_abst\",\"count_abst\"]] = pd.read_csv('abstract_test_cluster.txt', delimiter = \"\\t\", header=None, encoding='utf-8', names=[\"bitchain_abst\", \"word_abst\",\"count_abst\"])\n",
    "df_dev_brown = pd.read_csv('title_dev_cluster.txt', delimiter = \"\\t\", header=None, encoding='utf-8', quoting=csv.QUOTE_NONE, names=[\"bitchain_title\", \"word_title\",\"count_title\"])\n",
    "df_dev_brown[[\"bitchain_abst\", \"word_abst\",\"count_abst\"]] = pd.read_csv('abstract_dev_cluster.txt',quoting=csv.QUOTE_NONE,delimiter = \"\\t\", header=None, encoding='utf-8', names=[\"bitchain_abst\", \"word_abst\",\"count_abst\"])\n",
    "\n",
    "df_train_brown['bitchain_title'] = df_train_brown['bitchain_title'].apply(lambda x: int(str(x)[:2]))\n",
    "df_train_brown['bitchain_abst'] = df_train_brown['bitchain_abst'].apply(lambda x: int(str(x)[:2]))\n",
    "df_test_brown['bitchain_title'] = df_test_brown['bitchain_title'].apply(lambda x: int(str(x)[:2]))\n",
    "df_test_brown['bitchain_abst'] = df_test_brown['bitchain_abst'].apply(lambda x: int(str(x)[:2]))\n",
    "df_dev_brown['bitchain_title'] = df_dev_brown['bitchain_title'].apply(lambda x: int(str(x)[:2]))\n",
    "df_dev_brown['bitchain_abst'] = df_dev_brown['bitchain_abst'].apply(lambda x: int(str(x)[:2]))\n",
    "df_dev_brown.head()"
   ]
  },
  {
   "cell_type": "markdown",
   "metadata": {},
   "source": [
    "We next import CheBI database text files which is later used for dictionary lookup feature in the feature extraction stage."
   ]
  },
  {
   "cell_type": "code",
   "execution_count": 5,
   "metadata": {},
   "outputs": [
    {
     "data": {
      "text/html": [
       "<div>\n",
       "<style scoped>\n",
       "    .dataframe tbody tr th:only-of-type {\n",
       "        vertical-align: middle;\n",
       "    }\n",
       "\n",
       "    .dataframe tbody tr th {\n",
       "        vertical-align: top;\n",
       "    }\n",
       "\n",
       "    .dataframe thead th {\n",
       "        text-align: right;\n",
       "    }\n",
       "</style>\n",
       "<table border=\"1\" class=\"dataframe\">\n",
       "  <thead>\n",
       "    <tr style=\"text-align: right;\">\n",
       "      <th></th>\n",
       "      <th>ID</th>\n",
       "      <th>COMPOUND_ID</th>\n",
       "      <th>TYPE</th>\n",
       "      <th>SOURCE</th>\n",
       "      <th>NAME</th>\n",
       "      <th>ADAPTED</th>\n",
       "      <th>LANGUAGE</th>\n",
       "    </tr>\n",
       "  </thead>\n",
       "  <tbody>\n",
       "    <tr>\n",
       "      <th>0</th>\n",
       "      <td>10952</td>\n",
       "      <td>16478</td>\n",
       "      <td>SYNONYM</td>\n",
       "      <td>KEGG COMPOUND</td>\n",
       "      <td>N-Acetyl-beta-D-glucosaminyl-1,6-(N-acetyl-bet...</td>\n",
       "      <td>F</td>\n",
       "      <td>en</td>\n",
       "    </tr>\n",
       "    <tr>\n",
       "      <th>1</th>\n",
       "      <td>10957</td>\n",
       "      <td>15947</td>\n",
       "      <td>SYNONYM</td>\n",
       "      <td>KEGG COMPOUND</td>\n",
       "      <td>N-Acetyl-beta-D-glucosaminylamine</td>\n",
       "      <td>F</td>\n",
       "      <td>en</td>\n",
       "    </tr>\n",
       "    <tr>\n",
       "      <th>2</th>\n",
       "      <td>11955</td>\n",
       "      <td>7853</td>\n",
       "      <td>SYNONYM</td>\n",
       "      <td>KEGG COMPOUND</td>\n",
       "      <td>Oxyacanthine</td>\n",
       "      <td>F</td>\n",
       "      <td>en</td>\n",
       "    </tr>\n",
       "    <tr>\n",
       "      <th>3</th>\n",
       "      <td>11966</td>\n",
       "      <td>15379</td>\n",
       "      <td>SYNONYM</td>\n",
       "      <td>KEGG COMPOUND</td>\n",
       "      <td>O2</td>\n",
       "      <td>F</td>\n",
       "      <td>en</td>\n",
       "    </tr>\n",
       "    <tr>\n",
       "      <th>4</th>\n",
       "      <td>11965</td>\n",
       "      <td>15379</td>\n",
       "      <td>SYNONYM</td>\n",
       "      <td>KEGG COMPOUND</td>\n",
       "      <td>Oxygen</td>\n",
       "      <td>F</td>\n",
       "      <td>en</td>\n",
       "    </tr>\n",
       "  </tbody>\n",
       "</table>\n",
       "</div>"
      ],
      "text/plain": [
       "      ID  COMPOUND_ID     TYPE         SOURCE  \\\n",
       "0  10952        16478  SYNONYM  KEGG COMPOUND   \n",
       "1  10957        15947  SYNONYM  KEGG COMPOUND   \n",
       "2  11955         7853  SYNONYM  KEGG COMPOUND   \n",
       "3  11966        15379  SYNONYM  KEGG COMPOUND   \n",
       "4  11965        15379  SYNONYM  KEGG COMPOUND   \n",
       "\n",
       "                                                NAME ADAPTED LANGUAGE  \n",
       "0  N-Acetyl-beta-D-glucosaminyl-1,6-(N-acetyl-bet...       F       en  \n",
       "1                  N-Acetyl-beta-D-glucosaminylamine       F       en  \n",
       "2                                       Oxyacanthine       F       en  \n",
       "3                                                 O2       F       en  \n",
       "4                                             Oxygen       F       en  "
      ]
     },
     "execution_count": 5,
     "metadata": {},
     "output_type": "execute_result"
    }
   ],
   "source": [
    "df_cheBI_FORMULA = pd.read_csv('chemical_data.txt', delimiter = \"\\t\", header=None,names=[\"ID\", \"COMPOUND_ID\", \"SOURCE\",\"TYPE\",\"CHEMICAL_DATA\"])\n",
    "df_cheBI_IUPAC = pd.read_csv('chemical_names.txt', delimiter = \"\\t\", header=None,names=[\"ID\", \"COMPOUND_ID\", \"TYPE\",\"SOURCE\",\"NAME\",'ADAPTED','LANGUAGE'])\n",
    "df_cheBI_IUPAC.head()"
   ]
  },
  {
   "cell_type": "markdown",
   "metadata": {},
   "source": [
    "The pre-processing stage includes tokenization of sentences, stopwords removal, parts of speech tagging and BIO labelling of the tokens. These steps in CNER are crucial and can be challenging in identifying chemical entities, as the chemical compounds and drug names may contain a number of symbols mixed with common words or digits.  \n",
    "\n",
    "###### Tokenization\n",
    "Tokenization is the process of segmenting raw text into words/tokens. The natural language tokenisers can wrongly determine or split the chemical words containing special symbols or braces.\n",
    "For example: \"cyanidin-3-O-[6-O-(4-O-E-caffeoyl-O-α-rhamnopyranosyl)-β-glucopyrano]-5-O-β-glucopyranoside\" is a drug which should be determined as a single token. The tokeniser should recognize such a long intact tokens which is not possible by using natural language tokenizers. To acheive this, we use chemtok module taken from OSCR project which is designed to tokenize chemical texts. \n",
    "\n",
    "###### Stopwords Removal\n",
    "The english basic words such as \"about\", \"all\", \"most\", and \"make\" can be removed from the tokens using nltk.\n",
    "\n",
    "###### POS tagging\n",
    "A Part-Of-Speech Tagger (POS Tagger) is a module that reads text and assigns parts of speech to each word/token, such as noun, verb, adjective, etc\n",
    "\n",
    "We first tokenize the titles of training and test data, followed by the abstracts:"
   ]
  },
  {
   "cell_type": "code",
   "execution_count": 6,
   "metadata": {},
   "outputs": [
    {
     "data": {
      "text/html": [
       "<div>\n",
       "<style scoped>\n",
       "    .dataframe tbody tr th:only-of-type {\n",
       "        vertical-align: middle;\n",
       "    }\n",
       "\n",
       "    .dataframe tbody tr th {\n",
       "        vertical-align: top;\n",
       "    }\n",
       "\n",
       "    .dataframe thead th {\n",
       "        text-align: right;\n",
       "    }\n",
       "</style>\n",
       "<table border=\"1\" class=\"dataframe\">\n",
       "  <thead>\n",
       "    <tr style=\"text-align: right;\">\n",
       "      <th></th>\n",
       "      <th>article_ID</th>\n",
       "      <th>title</th>\n",
       "      <th>abstract</th>\n",
       "      <th>title_tokens</th>\n",
       "      <th>title_tag</th>\n",
       "    </tr>\n",
       "  </thead>\n",
       "  <tbody>\n",
       "    <tr>\n",
       "      <th>0</th>\n",
       "      <td>21826085</td>\n",
       "      <td>DPP6 as a candidate gene for neuroleptic-induc...</td>\n",
       "      <td>We implemented a two-step approach to detect p...</td>\n",
       "      <td>[DPP6, candidate, gene, neuroleptic, -, induce...</td>\n",
       "      <td>[(DPP6, NNP), (candidate, NN), (gene, NN), (ne...</td>\n",
       "    </tr>\n",
       "    <tr>\n",
       "      <th>1</th>\n",
       "      <td>22080034</td>\n",
       "      <td>Nanosilver effects on growth parameters in exp...</td>\n",
       "      <td>Aflatoxicosis is a cause of economic losses in...</td>\n",
       "      <td>[Nanosilver, effects, growth, parameters, expe...</td>\n",
       "      <td>[(Nanosilver, NNP), (effects, NNS), (growth, N...</td>\n",
       "    </tr>\n",
       "    <tr>\n",
       "      <th>2</th>\n",
       "      <td>22080035</td>\n",
       "      <td>The influence of the intensity of smoking and ...</td>\n",
       "      <td>The aim of this study was to investigate the e...</td>\n",
       "      <td>[The, influence, intensity, smoking, years, wo...</td>\n",
       "      <td>[(The, DT), (influence, NN), (intensity, NN), ...</td>\n",
       "    </tr>\n",
       "    <tr>\n",
       "      <th>3</th>\n",
       "      <td>22080037</td>\n",
       "      <td>Mercury induces the expression of cyclooxygena...</td>\n",
       "      <td>Nuclear factor-κB (NF-κB) is a transcription f...</td>\n",
       "      <td>[Mercury, induces, expression, cyclooxygenase-...</td>\n",
       "      <td>[(Mercury, NNP), (induces, NNS), (expression, ...</td>\n",
       "    </tr>\n",
       "    <tr>\n",
       "      <th>4</th>\n",
       "      <td>22258629</td>\n",
       "      <td>Toxic effects of chromium on tannery workers a...</td>\n",
       "      <td>Chromium is widely used in the leather industr...</td>\n",
       "      <td>[Toxic, effects, chromium, tannery, workers, S...</td>\n",
       "      <td>[(Toxic, NNP), (effects, NNS), (chromium, VBP)...</td>\n",
       "    </tr>\n",
       "  </tbody>\n",
       "</table>\n",
       "</div>"
      ],
      "text/plain": [
       "   article_ID                                              title  \\\n",
       "0    21826085  DPP6 as a candidate gene for neuroleptic-induc...   \n",
       "1    22080034  Nanosilver effects on growth parameters in exp...   \n",
       "2    22080035  The influence of the intensity of smoking and ...   \n",
       "3    22080037  Mercury induces the expression of cyclooxygena...   \n",
       "4    22258629  Toxic effects of chromium on tannery workers a...   \n",
       "\n",
       "                                            abstract  \\\n",
       "0  We implemented a two-step approach to detect p...   \n",
       "1  Aflatoxicosis is a cause of economic losses in...   \n",
       "2  The aim of this study was to investigate the e...   \n",
       "3  Nuclear factor-κB (NF-κB) is a transcription f...   \n",
       "4  Chromium is widely used in the leather industr...   \n",
       "\n",
       "                                        title_tokens  \\\n",
       "0  [DPP6, candidate, gene, neuroleptic, -, induce...   \n",
       "1  [Nanosilver, effects, growth, parameters, expe...   \n",
       "2  [The, influence, intensity, smoking, years, wo...   \n",
       "3  [Mercury, induces, expression, cyclooxygenase-...   \n",
       "4  [Toxic, effects, chromium, tannery, workers, S...   \n",
       "\n",
       "                                           title_tag  \n",
       "0  [(DPP6, NNP), (candidate, NN), (gene, NN), (ne...  \n",
       "1  [(Nanosilver, NNP), (effects, NNS), (growth, N...  \n",
       "2  [(The, DT), (influence, NN), (intensity, NN), ...  \n",
       "3  [(Mercury, NNP), (induces, NNS), (expression, ...  \n",
       "4  [(Toxic, NNP), (effects, NNS), (chromium, VBP)...  "
      ]
     },
     "execution_count": 6,
     "metadata": {},
     "output_type": "execute_result"
    }
   ],
   "source": [
    "#tokenization, stop words removal and POS tagging of titles from training dataset\n",
    "df1_train_data['title_tokens'] = df1_train_data['title'].apply(lambda x: ChemTokeniser(x, clm=True))\n",
    "df1_train_data['title_tokens'] = df1_train_data['title_tokens'].apply(lambda x: [x.value for x in x.tokens])\n",
    "df1_train_data['title_tokens'] = df1_train_data['title_tokens'].apply(lambda x: [w for w in x if w!=\".\"])\n",
    "df1_train_data['title_tokens'] = df1_train_data['title_tokens'].apply(lambda x: [w for w in x if w not in stopwords.words('english')])\n",
    "df1_train_data['title_tag'] = df1_train_data['title_tokens'].apply(lambda x: nltk.pos_tag(x))\n",
    "\n",
    "#tokenization, stop words removal and POS tagging of titles from test dataset\n",
    "df1_test_data['title_tokens'] = df1_test_data['title'].apply(lambda x: ChemTokeniser(x, clm=True))\n",
    "df1_test_data['title_tokens'] = df1_test_data['title_tokens'].apply(lambda x: [x.value for x in x.tokens])\n",
    "df1_test_data['title_tokens'] = df1_test_data['title_tokens'].apply(lambda x: [w for w in x if w!=\".\"])\n",
    "df1_test_data['title_tokens'] = df1_test_data['title_tokens'].apply(lambda x: [w for w in x if w not in stopwords.words('english')])\n",
    "df1_test_data['title_tag'] = df1_test_data['title_tokens'].apply(lambda x: nltk.pos_tag(x))\n",
    "\n",
    "#tokenization, stop words removal and POS tagging of titles from development dataset\n",
    "df1_dev_data['title_tokens'] = df1_dev_data['title'].apply(lambda x: ChemTokeniser(x, clm=True))\n",
    "df1_dev_data['title_tokens'] = df1_dev_data['title_tokens'].apply(lambda x: [x.value for x in x.tokens])\n",
    "df1_dev_data['title_tokens'] = df1_dev_data['title_tokens'].apply(lambda x: [w for w in x if w!=\".\"])\n",
    "df1_dev_data['title_tokens'] = df1_dev_data['title_tokens'].apply(lambda x: [w for w in x if w not in stopwords.words('english')])\n",
    "df1_dev_data['title_tag'] = df1_dev_data['title_tokens'].apply(lambda x: nltk.pos_tag(x))\n",
    "\n",
    "df1_train_data.head()"
   ]
  },
  {
   "cell_type": "code",
   "execution_count": 7,
   "metadata": {},
   "outputs": [
    {
     "data": {
      "text/html": [
       "<div>\n",
       "<style scoped>\n",
       "    .dataframe tbody tr th:only-of-type {\n",
       "        vertical-align: middle;\n",
       "    }\n",
       "\n",
       "    .dataframe tbody tr th {\n",
       "        vertical-align: top;\n",
       "    }\n",
       "\n",
       "    .dataframe thead th {\n",
       "        text-align: right;\n",
       "    }\n",
       "</style>\n",
       "<table border=\"1\" class=\"dataframe\">\n",
       "  <thead>\n",
       "    <tr style=\"text-align: right;\">\n",
       "      <th></th>\n",
       "      <th>article_ID</th>\n",
       "      <th>title</th>\n",
       "      <th>abstract</th>\n",
       "      <th>title_tokens</th>\n",
       "      <th>title_tag</th>\n",
       "      <th>abstract_tokens</th>\n",
       "      <th>abstract_tag</th>\n",
       "    </tr>\n",
       "  </thead>\n",
       "  <tbody>\n",
       "    <tr>\n",
       "      <th>0</th>\n",
       "      <td>21826085</td>\n",
       "      <td>DPP6 as a candidate gene for neuroleptic-induc...</td>\n",
       "      <td>We implemented a two-step approach to detect p...</td>\n",
       "      <td>[DPP6, candidate, gene, neuroleptic, -, induce...</td>\n",
       "      <td>[(DPP6, NNP), (candidate, NN), (gene, NN), (ne...</td>\n",
       "      <td>[We, implemented, two, -, step, approach, dete...</td>\n",
       "      <td>[(We, PRP), (implemented, VBD), (two, CD), (-,...</td>\n",
       "    </tr>\n",
       "    <tr>\n",
       "      <th>1</th>\n",
       "      <td>22080034</td>\n",
       "      <td>Nanosilver effects on growth parameters in exp...</td>\n",
       "      <td>Aflatoxicosis is a cause of economic losses in...</td>\n",
       "      <td>[Nanosilver, effects, growth, parameters, expe...</td>\n",
       "      <td>[(Nanosilver, NNP), (effects, NNS), (growth, N...</td>\n",
       "      <td>[Aflatoxicosis, cause, economic, losses, broil...</td>\n",
       "      <td>[(Aflatoxicosis, NNP), (cause, VBP), (economic...</td>\n",
       "    </tr>\n",
       "    <tr>\n",
       "      <th>2</th>\n",
       "      <td>22080035</td>\n",
       "      <td>The influence of the intensity of smoking and ...</td>\n",
       "      <td>The aim of this study was to investigate the e...</td>\n",
       "      <td>[The, influence, intensity, smoking, years, wo...</td>\n",
       "      <td>[(The, DT), (influence, NN), (intensity, NN), ...</td>\n",
       "      <td>[The, aim, study, investigate, effect, cigaret...</td>\n",
       "      <td>[(The, DT), (aim, NN), (study, NN), (investiga...</td>\n",
       "    </tr>\n",
       "    <tr>\n",
       "      <th>3</th>\n",
       "      <td>22080037</td>\n",
       "      <td>Mercury induces the expression of cyclooxygena...</td>\n",
       "      <td>Nuclear factor-κB (NF-κB) is a transcription f...</td>\n",
       "      <td>[Mercury, induces, expression, cyclooxygenase-...</td>\n",
       "      <td>[(Mercury, NNP), (induces, NNS), (expression, ...</td>\n",
       "      <td>[Nuclear, factor-κB, (, NF-κB, ), transcriptio...</td>\n",
       "      <td>[(Nuclear, JJ), (factor-κB, JJ), ((, (), (NF-κ...</td>\n",
       "    </tr>\n",
       "    <tr>\n",
       "      <th>4</th>\n",
       "      <td>22258629</td>\n",
       "      <td>Toxic effects of chromium on tannery workers a...</td>\n",
       "      <td>Chromium is widely used in the leather industr...</td>\n",
       "      <td>[Toxic, effects, chromium, tannery, workers, S...</td>\n",
       "      <td>[(Toxic, NNP), (effects, NNS), (chromium, VBP)...</td>\n",
       "      <td>[Chromium, widely, used, leather, industry, ,,...</td>\n",
       "      <td>[(Chromium, NNP), (widely, RB), (used, VBD), (...</td>\n",
       "    </tr>\n",
       "  </tbody>\n",
       "</table>\n",
       "</div>"
      ],
      "text/plain": [
       "   article_ID                                              title  \\\n",
       "0    21826085  DPP6 as a candidate gene for neuroleptic-induc...   \n",
       "1    22080034  Nanosilver effects on growth parameters in exp...   \n",
       "2    22080035  The influence of the intensity of smoking and ...   \n",
       "3    22080037  Mercury induces the expression of cyclooxygena...   \n",
       "4    22258629  Toxic effects of chromium on tannery workers a...   \n",
       "\n",
       "                                            abstract  \\\n",
       "0  We implemented a two-step approach to detect p...   \n",
       "1  Aflatoxicosis is a cause of economic losses in...   \n",
       "2  The aim of this study was to investigate the e...   \n",
       "3  Nuclear factor-κB (NF-κB) is a transcription f...   \n",
       "4  Chromium is widely used in the leather industr...   \n",
       "\n",
       "                                        title_tokens  \\\n",
       "0  [DPP6, candidate, gene, neuroleptic, -, induce...   \n",
       "1  [Nanosilver, effects, growth, parameters, expe...   \n",
       "2  [The, influence, intensity, smoking, years, wo...   \n",
       "3  [Mercury, induces, expression, cyclooxygenase-...   \n",
       "4  [Toxic, effects, chromium, tannery, workers, S...   \n",
       "\n",
       "                                           title_tag  \\\n",
       "0  [(DPP6, NNP), (candidate, NN), (gene, NN), (ne...   \n",
       "1  [(Nanosilver, NNP), (effects, NNS), (growth, N...   \n",
       "2  [(The, DT), (influence, NN), (intensity, NN), ...   \n",
       "3  [(Mercury, NNP), (induces, NNS), (expression, ...   \n",
       "4  [(Toxic, NNP), (effects, NNS), (chromium, VBP)...   \n",
       "\n",
       "                                     abstract_tokens  \\\n",
       "0  [We, implemented, two, -, step, approach, dete...   \n",
       "1  [Aflatoxicosis, cause, economic, losses, broil...   \n",
       "2  [The, aim, study, investigate, effect, cigaret...   \n",
       "3  [Nuclear, factor-κB, (, NF-κB, ), transcriptio...   \n",
       "4  [Chromium, widely, used, leather, industry, ,,...   \n",
       "\n",
       "                                        abstract_tag  \n",
       "0  [(We, PRP), (implemented, VBD), (two, CD), (-,...  \n",
       "1  [(Aflatoxicosis, NNP), (cause, VBP), (economic...  \n",
       "2  [(The, DT), (aim, NN), (study, NN), (investiga...  \n",
       "3  [(Nuclear, JJ), (factor-κB, JJ), ((, (), (NF-κ...  \n",
       "4  [(Chromium, NNP), (widely, RB), (used, VBD), (...  "
      ]
     },
     "execution_count": 7,
     "metadata": {},
     "output_type": "execute_result"
    }
   ],
   "source": [
    "#tokenization, stop words removal and POS tagging of abstracts from training dataset\n",
    "df1_train_data['abstract_tokens'] = df1_train_data['abstract'].apply(lambda x: ChemTokeniser(x, clm=True))\n",
    "df1_train_data['abstract_tokens'] = df1_train_data['abstract_tokens'].apply(lambda x: [x.value for x in x.tokens])\n",
    "df1_train_data['abstract_tokens'] = df1_train_data['abstract_tokens'].apply(lambda x: [w for w in x if w!=\".\"])\n",
    "df1_train_data['abstract_tokens'] = df1_train_data['abstract_tokens'].apply(lambda x: [w for w in x if w not in stopwords.words('english')])\n",
    "df1_train_data['abstract_tag'] = df1_train_data['abstract_tokens'].apply(lambda x: nltk.pos_tag(x))\n",
    "\n",
    "#tokenization, stop words removal and POS tagging of abstracts from test dataset\n",
    "df1_test_data['abstract_tokens'] = df1_test_data['abstract'].apply(lambda x: ChemTokeniser(x, clm=True))\n",
    "df1_test_data['abstract_tokens'] = df1_test_data['abstract_tokens'].apply(lambda x: [x.value for x in x.tokens])\n",
    "df1_test_data['abstract_tokens'] = df1_test_data['abstract_tokens'].apply(lambda x: [w for w in x if w!=\".\"])\n",
    "df1_test_data['abstract_tokens'] = df1_test_data['abstract_tokens'].apply(lambda x: [w for w in x if w not in stopwords.words('english')])\n",
    "df1_test_data['abstract_tag'] = df1_test_data['abstract_tokens'].apply(lambda x: nltk.pos_tag(x))\n",
    "\n",
    "#tokenization, stop words removal and POS tagging of abstracts from development dataset\n",
    "df1_dev_data['abstract_tokens'] = df1_dev_data['abstract'].apply(lambda x: ChemTokeniser(x, clm=True))\n",
    "df1_dev_data['abstract_tokens'] = df1_dev_data['abstract_tokens'].apply(lambda x: [x.value for x in x.tokens])\n",
    "df1_dev_data['abstract_tokens'] = df1_dev_data['abstract_tokens'].apply(lambda x: [w for w in x if w!=\".\"])\n",
    "df1_dev_data['abstract_tokens'] = df1_dev_data['abstract_tokens'].apply(lambda x: [w for w in x if w not in stopwords.words('english')])\n",
    "df1_dev_data['abstract_tag'] = df1_dev_data['abstract_tokens'].apply(lambda x: nltk.pos_tag(x))\n",
    "\n",
    "df1_train_data.head()"
   ]
  },
  {
   "cell_type": "markdown",
   "metadata": {},
   "source": [
    "##### BIO Tagging\n",
    "The BIO format is a common tagging format for tagging tokens in a NER system. The \"B-\" prefix before a tag indicates that the tag is the beginning of a chunk, and an \"I-\" prefix before a tag indicates that the tag is inside a chunk. The \"B-\" tag is used only when a tag is followed by a tag of the same type without O tokens between them. An \"O\" tag indicates that a token belongs to no entity / chunk.\n",
    "\n",
    "E.g.,: \"Mercury induces the expression of cyclooxygenase-2 and inducible nitric oxide synthase\"<br>\n",
    "BIO tag: Mercury/B/induces/O/expression/O/cyclooxygenase-2/O/inducible/O/nitric/B/Oxide/I/synthase/O"
   ]
  },
  {
   "cell_type": "code",
   "execution_count": 8,
   "metadata": {},
   "outputs": [],
   "source": [
    "#BIO tagging of title and abstracts\n",
    "def mark_sentences_bio(df1,df2):\n",
    "    doc_t, doc_a = [],[]\n",
    "    tit,tagged_t,bitchain_t = [],[],[]\n",
    "    #BIO tagging of abstracts\n",
    "    for article_id,title,title_tok,title_tag in zip(df1.article_ID,df1.title,df1.title_tokens,df1.title_tag):\n",
    "        word_dict = {}\n",
    "        bit_dict_t = {}\n",
    "        for word in title_tok:\n",
    "            word_dict[word] = 'O'               \n",
    "        for art_id,start,end,label in zip(df2.article_ID,df2.start,df2.end,df2.label):\n",
    "            if(article_id==art_id):\n",
    "                temp_str = title[int(start):int(end)]\n",
    "                temp_list = temp_str.split()\n",
    "                if len(temp_list) > 1:\n",
    "                    word_dict[temp_list[0]] = 'B-' + label\n",
    "                    for w in temp_list[1:]:\n",
    "                        word_dict[w] = 'I-' + label\n",
    "                else: \n",
    "                    word_dict[temp_str] = 'B-' + label\n",
    "                if temp_str not in title_tok and temp_str!='':\n",
    "                    title_tag.append((temp_str,''))\n",
    "        tit.append([(k,v) for k, v in word_dict.items() if k!=''])\n",
    "        tagged_t.append(title_tag)\n",
    "    #assigning POS and entity label to each word\n",
    "    for  label, pos in zip(tit, tagged_t):\n",
    "        doc_t.append([(w, pos1, label1) for (w,label1),(word,pos1) in zip(label,pos)])\n",
    "                                                \n",
    "    abst,tagged_a,bitchain_a = [],[],[]\n",
    "    #BIO tagging of abstracts\n",
    "    for art_id,abstract,abstract_tok,abstract_tag in zip(df1.article_ID,df1.abstract,df1.abstract_tokens,df1.abstract_tag):\n",
    "        word_dict = {}\n",
    "        bit_dict_a = {}\n",
    "        for w in abstract_tok:\n",
    "            word_dict[w] = 'O'                 \n",
    "        for ar_id,start,end,label in zip(df2.article_ID,df2.start,df2.end,df2.label):\n",
    "            if(art_id==ar_id):\n",
    "                temp_str = abstract[int(start):int(end)]\n",
    "                temp_list = temp_str.split()\n",
    "                if len(temp_list) > 1:\n",
    "                    word_dict[temp_list[0]] = 'B-' + label\n",
    "                    for w in temp_list[1:]:\n",
    "                        word_dict[w] = 'I-' + label\n",
    "                else: \n",
    "                    word_dict[temp_str] = 'B-' + label\n",
    "                if temp_str not in abstract_tok and temp_str!='':\n",
    "                    abstract_tag.append((temp_str,''))\n",
    "        abst.append([(k, v) for k, v in word_dict.items()])\n",
    "        tagged_a.append(abstract_tag)\n",
    "    #assigning POS and entity label to each word\n",
    "    for  label, pos in zip(abst, tagged_a):\n",
    "        doc_a.append([(w, pos1, label1) for (w,label1),(word,pos1) in zip(label,pos)])\n",
    "    return doc_t,doc_a"
   ]
  },
  {
   "cell_type": "code",
   "execution_count": 9,
   "metadata": {},
   "outputs": [
    {
     "name": "stdout",
     "output_type": "stream",
     "text": [
      "[('Mercury', 'NNP', 'B-SYSTEMATIC'), ('induces', 'NNS', 'O'), ('expression', 'VBP', 'O'), ('cyclooxygenase-2', 'JJ', 'O'), ('inducible', 'JJ', 'O'), ('nitric', 'JJ', 'B-SYSTEMATIC'), ('oxide', 'NN', 'I-SYSTEMATIC'), ('synthase', 'NN', 'O')]\n"
     ]
    }
   ],
   "source": [
    "#BIO tagging of training dataset\n",
    "res_t = mark_sentences_bio(df1_train_data,df2_train_data)\n",
    "print(res_t[0][3])\n",
    "\n",
    "#BIO tagging of test dataset\n",
    "res_a = mark_sentences_bio(df1_test_data,df2_test_data)\n",
    "\n",
    "#BIO tagging of development dataset\n",
    "res_d = mark_sentences_bio(df1_dev_data,df2_dev_data)"
   ]
  },
  {
   "cell_type": "markdown",
   "metadata": {},
   "source": [
    "### Feature Extraction\n",
    "\n",
    "In the Feature extraction stage, the feature space is being represented in which different types of features are being used to generate the characteristics of the tokens/words. This is the most critical stage of NER, as the machine learning model can be better trained using different word features and representations. We use different categories of feature extraction such as morphological features, orthographical features, chemical dictionary lookup and unsupervised word representation."
   ]
  },
  {
   "cell_type": "markdown",
   "metadata": {},
   "source": [
    "#### Morphological features:\n",
    "Reflects common structures and sub-sequences of characters among entities. Such as, prefixes, suffixes, \n",
    "char n-grams:bigrams,trigrams, word-shape patterns(e.g.,the structure \"Abc:1234\" can be expressed as \"Aaa#1111\")\n",
    "\n",
    "#### Orthographical features:\n",
    "Represents word formation information, such as, capital letters, length of the word, ContainsDigits, ContainsPunctutaion, ContainsRoman, ContainsGreek\n",
    "\n",
    "#### Chemical dictionary lookup:\n",
    "Recognising that the occurrence of a token in an expert-curated dictionary indicates a high likelihood of it being a chemical name constituent. Dictionaries of chemicals are used to match the tokens/words. We have used Chemical Entities of Biological Interest (ChEBI) database to match chemical formulas and names.\n",
    "\n",
    "#### Unsupervised word representation\n",
    "If new terms show up in the test cases that have not been seen previously in the training dataset, we should adopt unsupervised WR like clustering for such words. We use two types of clustering approaches that are used widely in recognizing chemical entities:<br>\n",
    "\n",
    "**Brown Clustering**: Brown clustering builds a hierarchical cluster for words according to the context similarity\n",
    "among those words. The hierarchical path of a word in the cluster can be used as the word representation feature.\n",
    "We followed the method in (https://github.com/percyliang/brown-cluster/) to generate Brown clustering features. The hierarchical clusters are represented by a binary tree and words that are semantically/\n",
    "syntactically similar are assumed to be in the same or close clusters and have similar feature representations. For example, both of the words, oxygen and nitrogen are represented as ‘110110110110’ from the hierarchical binary\n",
    "tree generated from 500 Brown clusters.\n",
    "\n",
    "**Word Embeddings**: Word embeddings induce a real valued latent syntactic/semantic vector for each word from large corpus by continuous space language models. A word can be directly represented by its vector and similar words are likely to have similar vectors. A word2vec statistical neural network model is used to generate standalone word embeddings. Two different learning models can be used as part of the word2vec approach to learn the word embeddings they are:<br>\n",
    "* The CBOW model: learns the embedding by predicting the current word based on its context.<br>\n",
    "* The skip-gram model: learns by predicting the surrounding words given a current word.\n"
   ]
  },
  {
   "cell_type": "code",
   "execution_count": 10,
   "metadata": {},
   "outputs": [],
   "source": [
    "#assigning bitchain binary representation for each word in the dataset\n",
    "def get_bitchain(df1,df2,res):\n",
    "    bitchain_t,bitchain_a,data = [],[],[]\n",
    "    for doc_t,doc_a in zip(res[0],res[1]):\n",
    "        bitchain_dict_t, bitchain_dict_a= {},{}\n",
    "        for word in doc_t:\n",
    "            bitchain_title_train = df2['bitchain_title'].loc[df2['word_title'] == word[0]].values[-1:]\n",
    "            if (len(bitchain_title_train)==0): bitchain = \"\"\n",
    "            else:             \n",
    "                for k in range(len(bitchain_title_train)):\n",
    "                    bitchain = bitchain_title_train[-k-1]\n",
    "            bitchain_dict_t[word[0]] = bitchain\n",
    "        #assigning bitchain for each word in title\n",
    "        bitchain_t.append([(l,m) for l,m in bitchain_dict_t.items()])\n",
    "        \n",
    "        for w in doc_a:\n",
    "            bitchain_abst_train = df2['bitchain_abst'].loc[df2['word_abst'] == w[0]].values[-1:]\n",
    "            if (len(bitchain_abst_train)==0): bitchain = \"\"\n",
    "            else:             \n",
    "                for k in range(len(bitchain_abst_train)):\n",
    "                    bitchain = bitchain_abst_train[-k-1]\n",
    "            bitchain_dict_a[w[0]] = bitchain           \n",
    "        bitchain_a.append([(l,m) for l,m in bitchain_dict_a.items()]) \n",
    "    #assigning bitchain for each word in abstract\n",
    "    for doc,bitchain in zip(res[0],bitchain_t):\n",
    "        data.append([(w, pos1, label1,bit) for (w, pos1, label1),(word,bit) in zip(doc,bitchain)])\n",
    "    for doc,bitchain in zip(res[1],bitchain_a):\n",
    "        data.append([(w, pos1, label1,bit) for (w, pos1, label1),(word,bit) in zip(doc,bitchain)])\n",
    "    return data"
   ]
  },
  {
   "cell_type": "code",
   "execution_count": 11,
   "metadata": {},
   "outputs": [
    {
     "name": "stdout",
     "output_type": "stream",
     "text": [
      "[('Mercury', 'NNP', 'B-SYSTEMATIC', ''), ('induces', 'NNS', 'O', 10), ('expression', 'VBP', 'O', 11), ('cyclooxygenase-2', 'JJ', 'O', 10), ('inducible', 'JJ', 'O', 10), ('nitric', 'JJ', 'B-SYSTEMATIC', 11), ('oxide', 'NN', 'I-SYSTEMATIC', 11), ('synthase', 'NN', 'O', 11)]\n"
     ]
    }
   ],
   "source": [
    "#assigning bitchain for each token in training data\n",
    "data_train = get_bitchain(df1_train_data,df_train_brown,res_t)\n",
    "print(data_train[3])\n",
    "\n",
    "#assigning bitchain for each token in test data\n",
    "data_test = get_bitchain(df1_test_data,df_test_brown,res_a)\n",
    "\n",
    "#assigning bitchain for each token in development data\n",
    "data_dev = get_bitchain(df1_dev_data,df_dev_brown,res_a)"
   ]
  },
  {
   "cell_type": "code",
   "execution_count": 12,
   "metadata": {},
   "outputs": [],
   "source": [
    "#generating word embeddings using word2vec model for each tokens\n",
    "df_token_data = []\n",
    "for index,row in df1_train_data.iterrows():\n",
    "    df_token_data.append(row['title_tokens'])\n",
    "    df_token_data.append(row['abstract_tokens'])\n",
    "for index,row in df1_test_data.iterrows():\n",
    "    df_token_data.append(row['title_tokens'])\n",
    "    df_token_data.append(row['abstract_tokens'])\n",
    "    \n",
    "model = Word2Vec(sentences=df_token_data,vector_size=100, window=5, min_count=1, workers=4)\n",
    "model.save('model.bin')\n",
    "\n",
    "#load and train the model\n",
    "model = Word2Vec.load('model.bin')\n",
    "model.train(df_token_data, total_examples=1, epochs=1)\n",
    "word_vectors = model.wv\n",
    "\n",
    "#save the model\n",
    "word_vectors.save(\"word2vec.wordvectors\")\n",
    "\n",
    "#load the model in keyedVectors format which occupies less data \n",
    "wv = KeyedVectors.load(\"word2vec.wordvectors\", mmap='r')\n",
    "def get_features(word):\n",
    "    word=word.lower()\n",
    "    try:\n",
    "        #word embeddings of each word/token is represented in vector\n",
    "         vector=wv[word]\n",
    "    except:\n",
    "        # if the word is not in vocabulary,\n",
    "        # returns zeros array\n",
    "        vector=np.zeros(300,dtype='uint8')\n",
    "    return vector "
   ]
  },
  {
   "cell_type": "markdown",
   "metadata": {},
   "source": [
    "Generating features of word which can be fed to train the model. The crf model used in our project accepts features in dictionary format as shown below:"
   ]
  },
  {
   "cell_type": "code",
   "execution_count": 13,
   "metadata": {},
   "outputs": [],
   "source": [
    "#generating morphological, orthographic, dictionary lookup, wordembedding, brown cluster features for word/token\n",
    "def word2features(doc, i):\n",
    "    word = doc[i][0]\n",
    "    postag = doc[i][1]\n",
    "    bitchain = doc[i][3]\n",
    " \n",
    "    punct = set(string.punctuation)\n",
    "    #common prefixes used in chemical data\n",
    "    pref = [\"alk\", \"meth\", \"eth\", \"prop\", \"but\", \"pent\", \"hex\", \"hept\", \"oct\", \"non\", \"dec\", \"undec\", \"dodec\", \"eifcos\",\n",
    "            \"di\", \"tri\", \"tetra\", \"penta\", \"hexa\", \"hepta\"]\n",
    "    #common suffixes used in chemical data\n",
    "    suff = [\"ane\", \"ene\", \"yne\", \"yl\", \"ol\", \"al\", \"oic\", \"one\", \"ate\", \"amine\", \"amide\"]\n",
    "    \n",
    "    #bigrams of word\n",
    "    bi_g = [word[w:w+2] for w in range(len(word)-1)]\n",
    "    #trigrams of word\n",
    "    tri_g = [word[w:w+3] for w in range(len(word)-2)]\n",
    "    \n",
    "    #word pattern\n",
    "    pattern = re.sub(r\"[A-Z]\",\"A\",word)\n",
    "    pattern = re.sub(r\"[a-z]\",\"a\",pattern)\n",
    "    pattern = re.sub(r\"[0-9]\",\"0\",pattern)\n",
    "    pattern = re.sub(r\"[!\"\"#$%&'()*+,./:;<=>?@\\^_`{|}~-]\",\"_\",pattern)\n",
    "    pattern = re.sub(r\"(.)\\1+\", r\"\\1\",pattern)\n",
    "    \n",
    "    #wordembedding vector of each word\n",
    "    wordembedding=get_features(word)\n",
    "    #chemical database lookup\n",
    "    isinChEBIFormula = word in df_cheBI_FORMULA.CHEMICAL_DATA\n",
    "    isinChEBIIUPAC = word in df_cheBI_IUPAC.NAME\n",
    "\n",
    "    # Common features for all words\n",
    "    features = {\n",
    "        'bias':1.0,\n",
    "        'word.lower()' : word.lower(),\n",
    "        'word.islower()' : word.islower(),\n",
    "        'word[-3:]': word[-3:],\n",
    "        'word[-2:]': word[-2:],\n",
    "        'word.isupper()': word.isupper(),\n",
    "        'word.istitle()': word.istitle(),\n",
    "        'word.isdigit()': word.isdigit(),        \n",
    "        'word[0].isupper()' : word[0:].isupper(),\n",
    "        'word.length' : len(word),\n",
    "        'word.punctuation' : (any(char in punct for char in word)),\n",
    "        'word.prefix' : (any(word.startswith(pf) for pf in pref)),\n",
    "        'word.suffix' : (any(word.endswith(sf) for sf in suff)),\n",
    "        'word.greek' : (bool(re.search('[α-ωΑ-Ω]',word))),\n",
    "        'word.roman' : (bool(re.search(r\"^M{0,3}(CM|CD|D?C{0,3})(XC|XL|L?X{0,3})(IX|IV|V?I{0,3})$\",word))),\n",
    "        'word.pattern' : pattern,\n",
    "        'word.bitchain': bitchain,\n",
    "        'word.isinChEBIFormula': isinChEBIFormula,\n",
    "        'word:isinChEBIIUPAC' : isinChEBIIUPAC,\n",
    "        'postag' : postag,\n",
    "        'postag[:2]': postag[:2]   \n",
    "    }\n",
    "    for j in range(len(bi_g)):\n",
    "        features['bigram_{}'.format(j+1)]=bi_g[j]\n",
    "    for j in range(len(tri_g)):\n",
    "        features['trigram_{}'.format(j+1)]=tri_g[j]    \n",
    "    for iv,value in enumerate(wordembedding):\n",
    "        features['v{}'.format(iv)]=value    \n",
    "\n",
    "    # Features for words that are not\n",
    "    # at the beginning of a document\n",
    "    if i > 0:\n",
    "        word1 = doc[i-1][0]\n",
    "        postag1 = doc[i-1][1]\n",
    "        bitchain1 = doc[i-1][3]\n",
    "        pattern1 = re.sub(r\"[A-Z]\",\"A\",word1)\n",
    "        pattern1 = re.sub(r\"[a-z]\",\"a\",pattern1)\n",
    "        pattern1 = re.sub(r\"[0-9]\",\"0\",pattern1)\n",
    "        pattern1 = re.sub(r\"[!\"\"#$%&'()*+,./:;<=>?@\\^_`{|}~-]\",\"_\",pattern1)\n",
    "        pattern1 = re.sub(r\"(.)\\1+\", r\"\\1\",pattern1)      \n",
    "        bi_g1 = [word1[w:w+2] for w in range(len(word1)-1)]\n",
    "        tri_g1 = [word1[w:w+3] for w in range(len(word1)-2)]  \n",
    "        wordembedding1=get_features(word1)  \n",
    "        isinChEBIFormula1 = word1 in df_cheBI_FORMULA.CHEMICAL_DATA\n",
    "        isinChEBIIUPAC1 = word1 in df_cheBI_IUPAC.NAME\n",
    "        features.update({\n",
    "            '-1:word.lower()' : word1.lower(),\n",
    "            '-1:word.islower()' : word1.islower(),\n",
    "            '-1:word[-3:]': word1[-3:],\n",
    "            '-1:word[-2:]': word1[-2:],\n",
    "            '-1:word.isupper()': word1.isupper(),\n",
    "            '-1:word.istitle()': word1.istitle(),\n",
    "            '-1:word.isdigit()': word1.isdigit(),        \n",
    "            '-1:word[0].isupper()' : word1[0:].isupper(),\n",
    "            '-1:word.length' : len(word1),\n",
    "            '-1:word.punctuation' : (any(char in punct for char in word1)),\n",
    "            '-1:word.prefix' : (any(word1.startswith(pf) for pf in pref)),\n",
    "            '-1:word.suffix' : (any(word1.endswith(sf) for sf in suff)),\n",
    "            '-1:word.greek' : (bool(re.search('[α-ωΑ-Ω]',word1))),\n",
    "            '-1:word.roman' : (bool(re.search(r\"^M{0,3}(CM|CD|D?C{0,3})(XC|XL|L?X{0,3})(IX|IV|V?I{0,3})$\",word1))),\n",
    "            '-1:postag' : postag1,         \n",
    "            '-1:word.pattern' : pattern1,  \n",
    "            '-1:word.bitchain': bitchain1,\n",
    "            '-1:word.isinChEBIFormula': isinChEBIFormula1,\n",
    "            '-1:word:isinChEBIIUPAC' : isinChEBIIUPAC1,\n",
    "            '-1:postag[:2]': postag1[:2]\n",
    "        })\n",
    "        for j in range(len(bi_g1)):\n",
    "            features['-1:bigram_{}'.format(j+1)]=bi_g1[j]\n",
    "        for j in range(len(tri_g1)):\n",
    "            features['-1:trigram_{}'.format(j+1)]=tri_g1[j]  \n",
    "        for iv,value in enumerate(wordembedding1):\n",
    "            features['-1:v{}'.format(iv)]=value\n",
    "    else:\n",
    "        # Indicate that it is the 'beginning of a document'\n",
    "        features['BOS'] = True\n",
    "\n",
    "    # Features for words that are not\n",
    "    # at the end of a document\n",
    "    if i < len(doc)-1:\n",
    "        word1 = doc[i+1][0]\n",
    "        postag1 = doc[i+1][1]\n",
    "        bitchain1 = doc[i+1][3]\n",
    "\n",
    "        pattern1 = re.sub(r\"[A-Z]\",\"A\",word1)\n",
    "        pattern1 = re.sub(r\"[a-z]\",\"a\",pattern1)\n",
    "        pattern1 = re.sub(r\"[0-9]\",\"0\",pattern1)\n",
    "        pattern1 = re.sub(r\"[!\"\"#$%&'()*+,./:;<=>?@\\^_`{|}~-]\",\"_\",pattern1)\n",
    "        pattern1 = re.sub(r\"(.)\\1+\", r\"\\1\",pattern1)      \n",
    "        bi_g1 = [word1[w:w+2] for w in range(len(word1)-1)]\n",
    "        tri_g1 = [word1[w:w+3] for w in range(len(word1)-2)]  \n",
    "        wordembedding1=get_features(word1)        \n",
    "        isinChEBIFormula1 = word1 in df_cheBI_FORMULA.CHEMICAL_DATA\n",
    "        isinChEBIIUPAC1 = word1 in df_cheBI_IUPAC.NAME\n",
    "        features.update({\n",
    "            '+1:word.lower()' : word1.lower(),\n",
    "            '+1:word.islower()' : word1.islower(),\n",
    "            '+1:word[-3:]': word1[-3:],\n",
    "            '+1:word[-2:]': word1[-2:],\n",
    "            '+1:word.isupper()': word1.isupper(),\n",
    "            '+1:word.istitle()': word1.istitle(),\n",
    "            '+1:word.isdigit()': word1.isdigit(),        \n",
    "            '+1:word[0].isupper()' : word1[0:].isupper(),\n",
    "            '+1:word.length' : len(word1),\n",
    "            '+1:word.punctuation' : (any(char in punct for char in word1)),\n",
    "            '+1:word.prefix' : (any(word1.startswith(pf) for pf in pref)),\n",
    "            '+1:word.suffix' : (any(word1.endswith(sf) for sf in suff)),\n",
    "            '+1:word.greek' : (bool(re.search('[α-ωΑ-Ω]',word1))),\n",
    "            '+1:word.roman' : (bool(re.search(r\"^M{0,3}(CM|CD|D?C{0,3})(XC|XL|L?X{0,3})(IX|IV|V?I{0,3})$\",word1))),            \n",
    "            '+1:word.pattern' : pattern1,\n",
    "            '+1:word.isinChEBIFormula': isinChEBIFormula1,\n",
    "            '+1:word:isinChEBIIUPAC' : isinChEBIIUPAC1,\n",
    "            '+1:postag' : postag1,\n",
    "            '+1:postag[:2]': postag1[:2]\n",
    "        })\n",
    "        for i in range(len(bi_g1)):\n",
    "            features['+1:bigram_{}'.format(i+1)]=bi_g1[i]\n",
    "        for i in range(len(tri_g1)):\n",
    "            features['+1:trigram_{}'.format(i+1)]=tri_g1[i]  \n",
    "        for iv,value in enumerate(wordembedding1):\n",
    "            features['+1:v{}'.format(iv)]=value                  \n",
    "\n",
    "    else:\n",
    "        # Indicate that it is the 'end of a document'\n",
    "        features['EOS'] = True\n",
    "    return features"
   ]
  },
  {
   "cell_type": "code",
   "execution_count": 14,
   "metadata": {},
   "outputs": [],
   "source": [
    "def extract_features(doc):\n",
    "    return [word2features(doc, i) for i in range(len(doc))]\n",
    "def get_labels(doc):\n",
    "    return [label for (token, postag, label,bitchain) in doc]"
   ]
  },
  {
   "cell_type": "code",
   "execution_count": 15,
   "metadata": {},
   "outputs": [],
   "source": [
    "#generating word features for training data\n",
    "X_train = [extract_features(doc) for doc in data_train]\n",
    "y_train = [get_labels(doc) for doc in data_train]"
   ]
  },
  {
   "cell_type": "code",
   "execution_count": 16,
   "metadata": {},
   "outputs": [],
   "source": [
    "#generating word features for test data\n",
    "X_test = [extract_features(doc) for doc in data_test]\n",
    "y_test = [get_labels(doc) for doc in data_test]"
   ]
  },
  {
   "cell_type": "code",
   "execution_count": 17,
   "metadata": {},
   "outputs": [],
   "source": [
    "#generating word features for development data\n",
    "X_dev = [extract_features(doc) for doc in data_dev]\n",
    "y_dev = [get_labels(doc) for doc in data_dev]"
   ]
  },
  {
   "cell_type": "markdown",
   "metadata": {},
   "source": [
    "### Training CRF Model\n",
    "In this stage, the training data can be used to train a CRF (conditional random fields) model using the extracted features. CRFs are graphical model which implements sequential dependencies in the predictions, i.e., the model predicts many variables that are interdependent. The main challenge in the NER problem is that the too rare entities can occur in test set due to which model must identify based only on context. The naive approach to this problem is to classify each word independently which assumes that named entity labels are independent which is not the case.<br><br>\n",
    "For example: tenofovir is classified as TRIVIAL name, where as tenofovir monophosphate is classified as SYSTEMATIC name.<br><br>\n",
    "To tackle this problem we use CRFs where input data is sequence and output is also a sequence and we have to take the previous context into account when predicting on a data point. For this purpose, we will use a feature functions that will have multiple input values.<br><br>\n",
    "\n",
    "The feature function is defined as follows:<br>\n",
    "       &emsp;&emsp;&emsp;&emsp;f(X,i,Yi-1,Yi) <br>\n",
    "Where, X = set of input vectors<br>\n",
    "       i = position of data points that we want to predict<br>\n",
    "       Y(i-1) = the label of data point i-1 in X<br>\n",
    "       Yi = the label of data point i in X"
   ]
  },
  {
   "cell_type": "code",
   "execution_count": 18,
   "metadata": {},
   "outputs": [
    {
     "data": {
      "text/plain": [
       "CRF(algorithm='lbfgs', all_possible_transitions=True, c1=0.1, c2=0.1,\n",
       "    keep_tempfiles=None, max_iterations=100)"
      ]
     },
     "execution_count": 18,
     "metadata": {},
     "output_type": "execute_result"
    }
   ],
   "source": [
    "#model training of training dataset\n",
    "crf = CRF(\n",
    "    algorithm='lbfgs', \n",
    "    c1=0.1, \n",
    "    c2=0.1, \n",
    "    max_iterations=100, \n",
    "    all_possible_transitions=True)\n",
    "crf.fit(X_train, y_train)"
   ]
  },
  {
   "cell_type": "code",
   "execution_count": 19,
   "metadata": {},
   "outputs": [
    {
     "data": {
      "text/plain": [
       "['B-SYSTEMATIC',\n",
       " 'I-SYSTEMATIC',\n",
       " 'B-FAMILY',\n",
       " 'I-FAMILY',\n",
       " 'B-ABBREVIATION',\n",
       " 'B-TRIVIAL',\n",
       " 'I-TRIVIAL',\n",
       " 'I-MULTIPLE',\n",
       " 'B-MULTIPLE',\n",
       " 'B-IDENTIFIER',\n",
       " 'B-FORMULA',\n",
       " 'I-FORMULA',\n",
       " 'I-ABBREVIATION',\n",
       " 'I-IDENTIFIER',\n",
       " 'B-NO CLASS',\n",
       " 'I-NO CLASS']"
      ]
     },
     "execution_count": 19,
     "metadata": {},
     "output_type": "execute_result"
    }
   ],
   "source": [
    "#eliminating entities which are not chemical mentions and are represented by 'O' tags\n",
    "labels = list(crf.classes_)\n",
    "labels.remove('O')\n",
    "labels"
   ]
  },
  {
   "cell_type": "markdown",
   "metadata": {},
   "source": [
    "### Evaluating the Model Performance\n",
    "We will use precision, recall and f1-score metrics to evaluate the performance of the model. The recall, precision and f-measure are defined as follows.<br><br>\n",
    "recall=TP/TP+FN, &emsp;&emsp; precision=TP/TP+FP,&emsp;&emsp; f-measure=(2 * precision * recall)/(precision+recall)<br><br>\n",
    "Where,True positive (TP) refers to the number of correctly recognized chemical mentions. False negative (FN) is the number of annotated chemical mentions that were omitted by the presented system. False positive (FP) is the number of recognized chemical mentions that were not annotated."
   ]
  },
  {
   "cell_type": "code",
   "execution_count": 20,
   "metadata": {},
   "outputs": [
    {
     "data": {
      "text/plain": [
       "0.551359721015118"
      ]
     },
     "execution_count": 20,
     "metadata": {},
     "output_type": "execute_result"
    }
   ],
   "source": [
    "#predicting entity recognition of test data\n",
    "y_pred = crf.predict(X_test)\n",
    "metrics.flat_f1_score(y_test, y_pred,\n",
    "                      average='weighted',labels=labels)"
   ]
  },
  {
   "cell_type": "markdown",
   "metadata": {},
   "source": [
    "The following results shows the precision, recall & f-measure of recognizing entities of test data when we train the crf model using training data"
   ]
  },
  {
   "cell_type": "code",
   "execution_count": 21,
   "metadata": {},
   "outputs": [
    {
     "name": "stdout",
     "output_type": "stream",
     "text": [
      "                precision    recall  f1-score   support\n",
      "\n",
      "B-ABBREVIATION       0.81      0.49      0.61       952\n",
      "I-ABBREVIATION       0.00      0.00      0.00        20\n",
      "      B-FAMILY       0.63      0.47      0.54      1840\n",
      "      I-FAMILY       0.38      0.27      0.31      1136\n",
      "     B-FORMULA       0.78      0.69      0.73       954\n",
      "     I-FORMULA       0.14      0.05      0.08        55\n",
      "  B-IDENTIFIER       0.74      0.21      0.33       163\n",
      "  I-IDENTIFIER       0.00      0.00      0.00        33\n",
      "    B-MULTIPLE       0.25      0.07      0.10        91\n",
      "    I-MULTIPLE       0.46      0.21      0.28       228\n",
      "    B-NO CLASS       0.00      0.00      0.00        11\n",
      "    I-NO CLASS       0.00      0.00      0.00         2\n",
      "  B-SYSTEMATIC       0.69      0.65      0.67      2694\n",
      "  I-SYSTEMATIC       0.43      0.35      0.39      1474\n",
      "     B-TRIVIAL       0.74      0.63      0.68      3142\n",
      "     I-TRIVIAL       0.44      0.28      0.34      1054\n",
      "\n",
      "     micro avg       0.64      0.50      0.56     13849\n",
      "     macro avg       0.41      0.27      0.32     13849\n",
      "  weighted avg       0.62      0.50      0.55     13849\n",
      "\n"
     ]
    }
   ],
   "source": [
    "sorted_labels = sorted(\n",
    "    labels,\n",
    "    key=lambda name: (name[1:], name[0])\n",
    ")\n",
    "print(metrics.flat_classification_report(\n",
    "    y_test, y_pred, labels=sorted_labels, digits=2\n",
    "))"
   ]
  },
  {
   "cell_type": "markdown",
   "metadata": {},
   "source": [
    "We now train the crf development/validation dataset to improve the quality of the results"
   ]
  },
  {
   "cell_type": "code",
   "execution_count": 22,
   "metadata": {},
   "outputs": [
    {
     "data": {
      "text/plain": [
       "CRF(algorithm='lbfgs', all_possible_transitions=True, c1=0.1, c2=0.1,\n",
       "    keep_tempfiles=None, max_iterations=100)"
      ]
     },
     "execution_count": 22,
     "metadata": {},
     "output_type": "execute_result"
    }
   ],
   "source": [
    "crf_dev = CRF(\n",
    "    algorithm='lbfgs', \n",
    "    c1=0.1, \n",
    "    c2=0.1, \n",
    "    max_iterations=100, \n",
    "    all_possible_transitions=True)\n",
    "crf_dev.fit(X_dev, y_dev)"
   ]
  },
  {
   "cell_type": "code",
   "execution_count": 23,
   "metadata": {},
   "outputs": [
    {
     "data": {
      "text/plain": [
       "['B-SYSTEMATIC',\n",
       " 'I-SYSTEMATIC',\n",
       " 'I-FAMILY',\n",
       " 'B-FAMILY',\n",
       " 'B-TRIVIAL',\n",
       " 'I-TRIVIAL',\n",
       " 'B-FORMULA',\n",
       " 'I-FORMULA',\n",
       " 'B-ABBREVIATION',\n",
       " 'B-IDENTIFIER',\n",
       " 'I-IDENTIFIER',\n",
       " 'B-NO CLASS',\n",
       " 'I-MULTIPLE',\n",
       " 'B-MULTIPLE',\n",
       " 'I-ABBREVIATION',\n",
       " 'I-NO CLASS']"
      ]
     },
     "execution_count": 23,
     "metadata": {},
     "output_type": "execute_result"
    }
   ],
   "source": [
    "labels_dev = list(crf_dev.classes_)\n",
    "labels_dev.remove('O')\n",
    "labels_dev"
   ]
  },
  {
   "cell_type": "markdown",
   "metadata": {},
   "source": [
    "#### Hyperparameter Optimization\n",
    "To perform optimization, we can do the regularization of parameters c1 and c2 of the model using randomized search and 3-fold cross-validation for 5 iterations(upto 50 iterations can also be performed given better CPU time and memory limit) and fit the development/validation dataset for the optimized parameters. Then we evaluate the model on the test data.\n"
   ]
  },
  {
   "cell_type": "code",
   "execution_count": 24,
   "metadata": {},
   "outputs": [
    {
     "name": "stdout",
     "output_type": "stream",
     "text": [
      "Fitting 3 folds for each of 5 candidates, totalling 15 fits\n"
     ]
    },
    {
     "name": "stderr",
     "output_type": "stream",
     "text": [
      "[Parallel(n_jobs=1)]: Using backend SequentialBackend with 1 concurrent workers.\n",
      "[Parallel(n_jobs=1)]: Done  15 out of  15 | elapsed: 138.7min finished\n"
     ]
    },
    {
     "name": "stdout",
     "output_type": "stream",
     "text": [
      "Wall time: 2h 27min 17s\n"
     ]
    },
    {
     "data": {
      "text/plain": [
       "RandomizedSearchCV(cv=3,\n",
       "                   estimator=CRF(algorithm='lbfgs',\n",
       "                                 all_possible_transitions=True,\n",
       "                                 keep_tempfiles=None, max_iterations=100),\n",
       "                   n_iter=5, n_jobs=1,\n",
       "                   param_distributions={'c1': <scipy.stats._distn_infrastructure.rv_frozen object at 0x0000028B6BD736D0>,\n",
       "                                        'c2': <scipy.stats._distn_infrastructure.rv_frozen object at 0x0000028B6BD73280>},\n",
       "                   scoring=make_scorer(flat_f1_score, average=weighted, labels=['B-SYSTEMATIC', 'I-SYSTEMATIC', 'I-FAMILY', 'B-FAMILY', 'B-TRIVIAL', 'I-TRIVIAL', 'B-FORMULA', 'I-FORMULA', 'B-ABBREVIATION', 'B-IDENTIFIER', 'I-IDENTIFIER', 'B-NO CLASS', 'I-MULTIPLE', 'B-MULTIPLE', 'I-ABBREVIATION', 'I-NO CLASS']),\n",
       "                   verbose=1)"
      ]
     },
     "execution_count": 24,
     "metadata": {},
     "output_type": "execute_result"
    }
   ],
   "source": [
    "%%time\n",
    "import scipy.stats\n",
    "from itertools import chain\n",
    "from sklearn.metrics import make_scorer\n",
    "\n",
    "crf = sklearn_crfsuite.CRF(\n",
    "    algorithm='lbfgs',\n",
    "    max_iterations=100,\n",
    "    all_possible_transitions=True\n",
    ")\n",
    "\n",
    "params_space = {\n",
    "    'c1': scipy.stats.expon(scale=0.5),\n",
    "    'c2': scipy.stats.expon(scale=0.05),\n",
    "}\n",
    "\n",
    "\n",
    "f1_scorer = make_scorer(metrics.flat_f1_score,\n",
    "                        average='weighted', labels=labels_dev)\n",
    "\n",
    "rs = RandomizedSearchCV(crf, params_space,\n",
    "                        cv=3,\n",
    "                        verbose=1,\n",
    "                        n_jobs=1,\n",
    "                        n_iter=5,\n",
    "                        scoring=f1_scorer)\n",
    "rs.fit(X_dev, y_dev)"
   ]
  },
  {
   "cell_type": "code",
   "execution_count": 25,
   "metadata": {},
   "outputs": [
    {
     "name": "stdout",
     "output_type": "stream",
     "text": [
      "best params: {'c1': 0.08894140215067371, 'c2': 0.0020242384494808985}\n",
      "best CV score: 0.512885774771498\n",
      "model size: 5.60M\n"
     ]
    }
   ],
   "source": [
    "print('best params:', rs.best_params_)\n",
    "print('best CV score:', rs.best_score_)\n",
    "print('model size: {:0.2f}M'.format(rs.best_estimator_.size_ / 1000000))"
   ]
  },
  {
   "cell_type": "markdown",
   "metadata": {},
   "source": [
    "Checking best estimator on our test data. The f1 score and precision, recall score are improved."
   ]
  },
  {
   "cell_type": "code",
   "execution_count": 27,
   "metadata": {},
   "outputs": [
    {
     "data": {
      "text/plain": [
       "0.9925771828887452"
      ]
     },
     "execution_count": 27,
     "metadata": {},
     "output_type": "execute_result"
    }
   ],
   "source": [
    "crf = rs.best_estimator_\n",
    "y_pred = crf.predict(X_test)\n",
    "\n",
    "metrics.flat_f1_score(y_test, y_pred,\n",
    "                      average='weighted',labels=labels_dev)"
   ]
  },
  {
   "cell_type": "markdown",
   "metadata": {},
   "source": [
    "We observe from the below results that training & optimizing the model with the development/validation data gave better results in recognizing the chemical entities of test data than the training data."
   ]
  },
  {
   "cell_type": "code",
   "execution_count": 28,
   "metadata": {},
   "outputs": [
    {
     "name": "stdout",
     "output_type": "stream",
     "text": [
      "                precision    recall  f1-score   support\n",
      "\n",
      "B-ABBREVIATION       1.00      1.00      1.00       952\n",
      "I-ABBREVIATION       1.00      1.00      1.00        20\n",
      "      B-FAMILY       1.00      0.99      0.99      1840\n",
      "      I-FAMILY       0.99      0.97      0.98      1136\n",
      "     B-FORMULA       1.00      1.00      1.00       954\n",
      "     I-FORMULA       1.00      1.00      1.00        55\n",
      "  B-IDENTIFIER       1.00      0.99      0.99       163\n",
      "  I-IDENTIFIER       1.00      1.00      1.00        33\n",
      "    B-MULTIPLE       1.00      1.00      1.00        91\n",
      "    I-MULTIPLE       1.00      1.00      1.00       228\n",
      "    B-NO CLASS       1.00      1.00      1.00        11\n",
      "    I-NO CLASS       1.00      1.00      1.00         2\n",
      "  B-SYSTEMATIC       1.00      0.99      1.00      2694\n",
      "  I-SYSTEMATIC       0.99      0.97      0.98      1474\n",
      "     B-TRIVIAL       1.00      0.99      1.00      3142\n",
      "     I-TRIVIAL       1.00      0.97      0.98      1054\n",
      "\n",
      "     micro avg       1.00      0.99      0.99     13849\n",
      "     macro avg       1.00      0.99      1.00     13849\n",
      "  weighted avg       1.00      0.99      0.99     13849\n",
      "\n"
     ]
    }
   ],
   "source": [
    "sorted_labels = sorted(\n",
    "    labels_dev,\n",
    "    key=lambda name: (name[1:], name[0])\n",
    ")\n",
    "print(metrics.flat_classification_report(\n",
    "    y_test, y_pred, labels=sorted_labels, digits=2\n",
    "))"
   ]
  },
  {
   "cell_type": "markdown",
   "metadata": {},
   "source": [
    "Below shows what the classifier learned. We can see that, for example, it is very likely that the beginning of an identifier name (B-IDENTIFIER) will be followed by a token inside identifier name (I-IDENTIFIER)"
   ]
  },
  {
   "cell_type": "code",
   "execution_count": 34,
   "metadata": {},
   "outputs": [
    {
     "name": "stdout",
     "output_type": "stream",
     "text": [
      "Top likely transitions:\n",
      "B-NO CLASS -> I-NO CLASS 6.722555\n",
      "B-IDENTIFIER -> I-IDENTIFIER 6.414588\n",
      "B-ABBREVIATION -> I-ABBREVIATION 5.908931\n",
      "B-FAMILY -> I-FAMILY 5.195519\n",
      "B-MULTIPLE -> I-MULTIPLE 5.169787\n",
      "B-FORMULA -> I-FORMULA 4.823790\n",
      "I-MULTIPLE -> I-MULTIPLE 4.794898\n",
      "B-SYSTEMATIC -> I-SYSTEMATIC 4.629315\n",
      "B-TRIVIAL -> I-TRIVIAL 4.628872\n",
      "B-FORMULA -> B-FORMULA 3.637423\n",
      "I-FAMILY -> I-FAMILY 3.486416\n",
      "I-SYSTEMATIC -> I-SYSTEMATIC 3.412703\n",
      "B-NO CLASS -> B-NO CLASS 3.306423\n",
      "I-FORMULA -> I-FORMULA 3.281422\n",
      "I-IDENTIFIER -> I-IDENTIFIER 3.101716\n",
      "I-TRIVIAL -> I-TRIVIAL 2.496813\n",
      "O      -> O       2.037894\n",
      "B-ABBREVIATION -> B-ABBREVIATION 1.882757\n",
      "I-TRIVIAL -> B-ABBREVIATION 1.539906\n",
      "I-FORMULA -> B-FORMULA 1.519302\n",
      "\n",
      "Top unlikely transitions:\n",
      "B-MULTIPLE -> B-FORMULA -1.433482\n",
      "I-SYSTEMATIC -> I-IDENTIFIER -1.466668\n",
      "I-FORMULA -> B-SYSTEMATIC -1.473499\n",
      "B-SYSTEMATIC -> I-MULTIPLE -1.536675\n",
      "B-FAMILY -> I-IDENTIFIER -1.576991\n",
      "I-MULTIPLE -> I-TRIVIAL -1.578228\n",
      "B-TRIVIAL -> I-FAMILY -1.589689\n",
      "O      -> I-IDENTIFIER -1.605138\n",
      "I-SYSTEMATIC -> I-FORMULA -1.628555\n",
      "I-TRIVIAL -> I-FORMULA -1.650067\n",
      "B-ABBREVIATION -> I-TRIVIAL -1.684800\n",
      "I-FAMILY -> B-IDENTIFIER -1.705607\n",
      "I-ABBREVIATION -> O       -1.726509\n",
      "I-FORMULA -> I-TRIVIAL -1.918594\n",
      "B-SYSTEMATIC -> I-FORMULA -1.964673\n",
      "B-SYSTEMATIC -> B-MULTIPLE -1.991946\n",
      "B-MULTIPLE -> B-SYSTEMATIC -2.286559\n",
      "I-SYSTEMATIC -> I-TRIVIAL -2.288761\n",
      "O      -> I-FORMULA -2.357459\n",
      "B-TRIVIAL -> I-FORMULA -2.374980\n"
     ]
    }
   ],
   "source": [
    "from collections import Counter\n",
    "\n",
    "def print_transitions(trans_features):\n",
    "    for (label_from, label_to), weight in trans_features:\n",
    "        print(\"%-6s -> %-7s %0.6f\" % (label_from, label_to, weight))\n",
    "\n",
    "print(\"Top likely transitions:\")\n",
    "print_transitions(Counter(crf.transition_features_).most_common(20))\n",
    "\n",
    "print(\"\\nTop unlikely transitions:\")\n",
    "print_transitions(Counter(crf.transition_features_).most_common()[-20:])"
   ]
  },
  {
   "cell_type": "markdown",
   "metadata": {},
   "source": [
    "The performance of the model can be evaluated using a learning curve, plotting the accuracy/score of predictions on the development and test datasets. As more data is fed for training the model, the accuracy on the test data increases with increase in the number of training samples."
   ]
  },
  {
   "cell_type": "code",
   "execution_count": 35,
   "metadata": {},
   "outputs": [
    {
     "data": {
      "image/png": "[encoded data removed]",
      "text/plain": [
       "<Figure size 432x288 with 1 Axes>"
      ]
     },
     "metadata": {},
     "output_type": "display_data"
    }
   ],
   "source": [
    "def plot_learning_curve(estimator, title, X, y, ylim=None, cv=None,\n",
    "                        n_jobs=1, train_sizes=np.linspace(.1, 1.0, 5)):\n",
    "    plt.figure()\n",
    "    plt.title(title)\n",
    "    if ylim is not None:\n",
    "        plt.ylim(*ylim)\n",
    "    plt.xlabel(\"Training samples\")\n",
    "    plt.ylabel(\"Score\")\n",
    "    train_sizes, train_scores, test_scores = learning_curve(\n",
    "        estimator, X, y, cv=cv, n_jobs=n_jobs, train_sizes=train_sizes)\n",
    "    train_scores_mean = np.mean(train_scores, axis=1)\n",
    "    train_scores_std = np.std(train_scores, axis=1)\n",
    "    test_scores_mean = np.mean(test_scores, axis=1)\n",
    "    test_scores_std = np.std(test_scores, axis=1)\n",
    "\n",
    "    plt.fill_between(train_sizes, train_scores_mean - train_scores_std,\n",
    "                     train_scores_mean + train_scores_std, alpha=0.1,\n",
    "                     color=\"r\")\n",
    "    plt.fill_between(train_sizes, test_scores_mean - test_scores_std,\n",
    "                     test_scores_mean + test_scores_std, alpha=0.1, color=\"g\")\n",
    "    plt.plot(train_sizes, train_scores_mean, 'o-', color=\"r\",\n",
    "             label=\"Training score\")\n",
    "    plt.plot(train_sizes, test_scores_mean, 'o-', color=\"g\",\n",
    "             label=\"Cross-validation score\")\n",
    "\n",
    "    plt.legend(loc=\"best\")\n",
    "    return plt\n",
    "\n",
    "estimator=crf_dev\n",
    "title = \"Learning curves CRF\"\n",
    "\n",
    "plot_learning_curve(estimator, title, X_dev, y_dev,(0.7, 1.01), cv=3, n_jobs=1)\n",
    "\n",
    "plt.show()"
   ]
  }
 ],
 "metadata": {
  "kernelspec": {
   "display_name": "Python 3 (ipykernel)",
   "language": "python",
   "name": "python3"
  },
  "language_info": {
   "codemirror_mode": {
    "name": "ipython",
    "version": 3
   },
   "file_extension": ".py",
   "mimetype": "text/x-python",
   "name": "python",
   "nbconvert_exporter": "python",
   "pygments_lexer": "ipython3",
   "version": "3.8.5"
  }
 },
 "nbformat": 4,
 "nbformat_minor": 4
}
